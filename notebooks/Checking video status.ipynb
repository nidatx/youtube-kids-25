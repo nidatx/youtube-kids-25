{
 "cells": [
  {
   "cell_type": "code",
   "execution_count": 66,
   "id": "5c220ded",
   "metadata": {},
   "outputs": [],
   "source": [
    "import os\n",
    "import pandas as pd\n",
    "from json import loads,dumps\n",
    "from collections import Counter\n",
    "import re\n",
    "from sklearn.metrics import accuracy_score,classification_report,confusion_matrix\n",
    "import seaborn as sns\n",
    "import matplotlib.pyplot as plt"
   ]
  },
  {
   "cell_type": "markdown",
   "id": "ebc1200f",
   "metadata": {},
   "source": [
    "# Checking for common ids "
   ]
  },
  {
   "cell_type": "code",
   "execution_count": 67,
   "id": "06a007ba",
   "metadata": {},
   "outputs": [],
   "source": [
    "p1_path = \"/Users/nida/Documents/GitHub/youtube-kids-ads-25/ad classification/base experiments/\"\n",
    "p2_path = \"/Users/nida/Documents/GitHub/youtube-kids-ads-25/ad classification/P2 Cross Model/\"\n",
    "\n",
    "zeroshot_df = pd.read_csv(p1_path + 'pipeline1_base_haleema_propmpt_zeroshot14.csv')\n",
    "dynamic_fewshot_df = pd.read_csv(p1_path + 'pipeline1_base_dynamicFewShotWithHaleemaPromptAnd2AppAnd2InappExamplesMerged_2299.csv')\n",
    "\n",
    "\n",
    "davsp_gemini_df = pd.read_csv(p2_path+'Dynamic-Audio-Visual-Sampling_Gemini-1.5_Prompt-C.csv')\n",
    "davsp_gpt_df = pd.read_csv(p2_path+'Dynamic-Audio-Visual-Sampling_GPT-4o_Prompt-C.csv')\n",
    "davsp_claude_df = pd.read_csv(p2_path+'Dynamic-Audio-Visual-Sampling_Claude-3.5-Flash_Prompt-C.csv')\n",
    "\n",
    "\n"
   ]
  },
  {
   "cell_type": "code",
   "execution_count": 68,
   "id": "43bdbcb8",
   "metadata": {},
   "outputs": [],
   "source": [
    "all_dfs = {\n",
    "    \"zeroshot\":zeroshot_df,\n",
    "    \"dynamic fewshot\":dynamic_fewshot_df,\n",
    "    \"davsp gemini\": davsp_gemini_df,\n",
    "    \"davsp gpt\": davsp_gpt_df,\n",
    "    \"davsp claude\":davsp_claude_df\n",
    "}"
   ]
  },
  {
   "cell_type": "code",
   "execution_count": 69,
   "id": "b90ae746",
   "metadata": {},
   "outputs": [
    {
     "name": "stdout",
     "output_type": "stream",
     "text": [
      "zeroshot shape: (2434, 6)\n",
      "dynamic fewshot shape: (2299, 7)\n",
      "davsp gemini shape: (2405, 6)\n",
      "davsp gpt shape: (2407, 5)\n",
      "davsp claude shape: (2406, 4)\n"
     ]
    }
   ],
   "source": [
    "for k,v in all_dfs.items():\n",
    "    print(k,\"shape:\",v.shape)"
   ]
  },
  {
   "cell_type": "code",
   "execution_count": 70,
   "id": "f408dd92",
   "metadata": {},
   "outputs": [
    {
     "name": "stdout",
     "output_type": "stream",
     "text": [
      "zeroshot (2434, 6)\n",
      "dynamic fewshot (2299, 7)\n",
      "davsp gemini (2405, 6)\n",
      "davsp gpt (2407, 5)\n",
      "davsp claude (2406, 4)\n"
     ]
    }
   ],
   "source": [
    "## check for duplicates in any dfs\n",
    "for name, df in all_dfs.items():\n",
    "    df_unique = df.drop_duplicates(subset=['Video Id'])\n",
    "    print(name,df_unique.shape)"
   ]
  },
  {
   "cell_type": "markdown",
   "id": "398b2122",
   "metadata": {},
   "source": [
    "## finding common ids across BOTH pipelines AND across all models"
   ]
  },
  {
   "cell_type": "code",
   "execution_count": 71,
   "id": "9199bf2e",
   "metadata": {},
   "outputs": [],
   "source": [
    "\n",
    "dataframes = list(all_dfs.values())\n",
    "common_video_ids = set(dataframes[0]['Video Id'])\n",
    "\n",
    "for df in dataframes[1:]:\n",
    "    common_video_ids &= set(df['Video Id'])"
   ]
  },
  {
   "cell_type": "code",
   "execution_count": 72,
   "id": "88181426",
   "metadata": {},
   "outputs": [
    {
     "data": {
      "text/plain": [
       "2229"
      ]
     },
     "execution_count": 72,
     "metadata": {},
     "output_type": "execute_result"
    }
   ],
   "source": [
    "len(common_video_ids)"
   ]
  },
  {
   "cell_type": "code",
   "execution_count": 87,
   "id": "8aa86925",
   "metadata": {},
   "outputs": [],
   "source": [
    "with open('common_ids_across_both_pipelines_and_models_ad_task.json','w') as f:\n",
    "    f.write(dumps(list(common_video_ids)))"
   ]
  },
  {
   "cell_type": "code",
   "execution_count": 73,
   "id": "ee23a816",
   "metadata": {},
   "outputs": [
    {
     "data": {
      "text/html": [
       "<div>\n",
       "<style scoped>\n",
       "    .dataframe tbody tr th:only-of-type {\n",
       "        vertical-align: middle;\n",
       "    }\n",
       "\n",
       "    .dataframe tbody tr th {\n",
       "        vertical-align: top;\n",
       "    }\n",
       "\n",
       "    .dataframe thead th {\n",
       "        text-align: right;\n",
       "    }\n",
       "</style>\n",
       "<table border=\"1\" class=\"dataframe\">\n",
       "  <thead>\n",
       "    <tr style=\"text-align: right;\">\n",
       "      <th></th>\n",
       "      <th>Video Id</th>\n",
       "    </tr>\n",
       "  </thead>\n",
       "  <tbody>\n",
       "    <tr>\n",
       "      <th>0</th>\n",
       "      <td>-5Nn9YiCFyA</td>\n",
       "    </tr>\n",
       "    <tr>\n",
       "      <th>1</th>\n",
       "      <td>-5n4A0ahSPc</td>\n",
       "    </tr>\n",
       "    <tr>\n",
       "      <th>2</th>\n",
       "      <td>-6dleqTJs0o</td>\n",
       "    </tr>\n",
       "    <tr>\n",
       "      <th>3</th>\n",
       "      <td>-7mSXKxLcMA</td>\n",
       "    </tr>\n",
       "    <tr>\n",
       "      <th>4</th>\n",
       "      <td>-8DkqpUK_DQ</td>\n",
       "    </tr>\n",
       "    <tr>\n",
       "      <th>...</th>\n",
       "      <td>...</td>\n",
       "    </tr>\n",
       "    <tr>\n",
       "      <th>2392</th>\n",
       "      <td>zpE9jKxjnHs</td>\n",
       "    </tr>\n",
       "    <tr>\n",
       "      <th>2393</th>\n",
       "      <td>zpjtz3wCWnQ</td>\n",
       "    </tr>\n",
       "    <tr>\n",
       "      <th>2394</th>\n",
       "      <td>zsytu0s2hwE</td>\n",
       "    </tr>\n",
       "    <tr>\n",
       "      <th>2395</th>\n",
       "      <td>zuuLAQy-FpM</td>\n",
       "    </tr>\n",
       "    <tr>\n",
       "      <th>2396</th>\n",
       "      <td>zz1xcDrqplM</td>\n",
       "    </tr>\n",
       "  </tbody>\n",
       "</table>\n",
       "<p>2397 rows × 1 columns</p>\n",
       "</div>"
      ],
      "text/plain": [
       "         Video Id\n",
       "0     -5Nn9YiCFyA\n",
       "1     -5n4A0ahSPc\n",
       "2     -6dleqTJs0o\n",
       "3     -7mSXKxLcMA\n",
       "4     -8DkqpUK_DQ\n",
       "...           ...\n",
       "2392  zpE9jKxjnHs\n",
       "2393  zpjtz3wCWnQ\n",
       "2394  zsytu0s2hwE\n",
       "2395  zuuLAQy-FpM\n",
       "2396  zz1xcDrqplM\n",
       "\n",
       "[2397 rows x 1 columns]"
      ]
     },
     "execution_count": 73,
     "metadata": {},
     "output_type": "execute_result"
    }
   ],
   "source": [
    "shizza_common = pd.read_csv('/Users/nida/Downloads/ad_prob_common_video_ids.csv')\n",
    "shizza_common"
   ]
  },
  {
   "cell_type": "markdown",
   "id": "c716cb99",
   "metadata": {},
   "source": [
    "## Checking status of all videos"
   ]
  },
  {
   "cell_type": "code",
   "execution_count": 74,
   "id": "9524b505",
   "metadata": {},
   "outputs": [
    {
     "name": "stdout",
     "output_type": "stream",
     "text": [
      "Total ads: (2520, 15)\n"
     ]
    }
   ],
   "source": [
    "ad_details_df = pd.read_csv('ad_details_w_tags.csv')\n",
    "print(\"Total ads:\",ad_details_df.shape)"
   ]
  },
  {
   "cell_type": "code",
   "execution_count": 75,
   "id": "b2b1bcd7",
   "metadata": {},
   "outputs": [
    {
     "data": {
      "text/html": [
       "<div>\n",
       "<style scoped>\n",
       "    .dataframe tbody tr th:only-of-type {\n",
       "        vertical-align: middle;\n",
       "    }\n",
       "\n",
       "    .dataframe tbody tr th {\n",
       "        vertical-align: top;\n",
       "    }\n",
       "\n",
       "    .dataframe thead th {\n",
       "        text-align: right;\n",
       "    }\n",
       "</style>\n",
       "<table border=\"1\" class=\"dataframe\">\n",
       "  <thead>\n",
       "    <tr style=\"text-align: right;\">\n",
       "      <th></th>\n",
       "      <th>id</th>\n",
       "      <th>title</th>\n",
       "      <th>description</th>\n",
       "      <th>channelId</th>\n",
       "      <th>channelTitle</th>\n",
       "      <th>thumbnail</th>\n",
       "      <th>tags</th>\n",
       "      <th>categoryId</th>\n",
       "      <th>madeForKids</th>\n",
       "      <th>duration</th>\n",
       "      <th>duration seconds</th>\n",
       "      <th>Primary Tag</th>\n",
       "      <th>Secondary Tag</th>\n",
       "      <th>Coder Rating</th>\n",
       "      <th>Coder Description</th>\n",
       "    </tr>\n",
       "  </thead>\n",
       "  <tbody>\n",
       "    <tr>\n",
       "      <th>0</th>\n",
       "      <td>v81vT7EID3Q</td>\n",
       "      <td>Nangrow HMO</td>\n",
       "      <td>Nangrow HMO</td>\n",
       "      <td>UCX0Sis-gI_OY-Ogz221GGoQ</td>\n",
       "      <td>GrowiingUp</td>\n",
       "      <td>https://i.ytimg.com/vi/v81vT7EID3Q/default.jpg</td>\n",
       "      <td>NaN</td>\n",
       "      <td>22</td>\n",
       "      <td>FALSE</td>\n",
       "      <td>PT5S</td>\n",
       "      <td>5</td>\n",
       "      <td>child directed</td>\n",
       "      <td>Cooking and Food</td>\n",
       "      <td>NaN</td>\n",
       "      <td>ad for a child's dietary supplement</td>\n",
       "    </tr>\n",
       "    <tr>\n",
       "      <th>1</th>\n",
       "      <td>rSickeJuceE</td>\n",
       "      <td>nouvelle technologie #Renault #ETech #fullhybrid</td>\n",
       "      <td>découvrez en juin la nouvelle technologie #Ren...</td>\n",
       "      <td>UCKqGfcDbnIDPWTxZ-k-dg3g</td>\n",
       "      <td>Renault Maroc</td>\n",
       "      <td>https://i.ytimg.com/vi/rSickeJuceE/default.jpg</td>\n",
       "      <td>NaN</td>\n",
       "      <td>2</td>\n",
       "      <td>FALSE</td>\n",
       "      <td>PT6S</td>\n",
       "      <td>6</td>\n",
       "      <td>irrelevant</td>\n",
       "      <td>Autos &amp; Vehicles</td>\n",
       "      <td>NaN</td>\n",
       "      <td>ad for car</td>\n",
       "    </tr>\n",
       "    <tr>\n",
       "      <th>2</th>\n",
       "      <td>DwNatxJHBGo</td>\n",
       "      <td>දන්ත සංවේදීතාවය නොසලකා හරින්න එපා කල්ගතවෙද්දි ...</td>\n",
       "      <td>දන්ත සංවේදීතාවය නොසලකා හරින්න එපා කල්ගතවෙද්දි ...</td>\n",
       "      <td>UCH3D6zUxAhanFrpVRgzfXuQ</td>\n",
       "      <td>Sensodyne LK</td>\n",
       "      <td>https://i.ytimg.com/vi/DwNatxJHBGo/default.jpg</td>\n",
       "      <td>NaN</td>\n",
       "      <td>22</td>\n",
       "      <td>FALSE</td>\n",
       "      <td>PT6S</td>\n",
       "      <td>6</td>\n",
       "      <td>irrelevant</td>\n",
       "      <td>Health and Fitness</td>\n",
       "      <td>NaN</td>\n",
       "      <td>ad for a toothpaste by sensodyne</td>\n",
       "    </tr>\n",
       "    <tr>\n",
       "      <th>3</th>\n",
       "      <td>cJR25ndPunQ</td>\n",
       "      <td>Ditt viktigaste val</td>\n",
       "      <td>NaN</td>\n",
       "      <td>UC4Ky1pwsI1BVMh7Dk5Vwe2g</td>\n",
       "      <td>Kry</td>\n",
       "      <td>https://i.ytimg.com/vi/cJR25ndPunQ/default.jpg</td>\n",
       "      <td>NaN</td>\n",
       "      <td>28</td>\n",
       "      <td>FALSE</td>\n",
       "      <td>PT6S</td>\n",
       "      <td>6</td>\n",
       "      <td>irrelevant</td>\n",
       "      <td>Health and Wellness</td>\n",
       "      <td>NaN</td>\n",
       "      <td>health care centre</td>\n",
       "    </tr>\n",
       "    <tr>\n",
       "      <th>4</th>\n",
       "      <td>iviCwMZYxZE</td>\n",
       "      <td>Fyll på ditt SL-kort i appen</td>\n",
       "      <td>Använder du ett SL-kort när du reser? Ladda på...</td>\n",
       "      <td>UCT-K0hbX-rWawfv1H7164fA</td>\n",
       "      <td>KanalSL</td>\n",
       "      <td>https://i.ytimg.com/vi/iviCwMZYxZE/default.jpg</td>\n",
       "      <td>NaN</td>\n",
       "      <td>19</td>\n",
       "      <td>FALSE</td>\n",
       "      <td>PT6S</td>\n",
       "      <td>6</td>\n",
       "      <td>irrelevant</td>\n",
       "      <td>Travel &amp; Adventure</td>\n",
       "      <td>NaN</td>\n",
       "      <td>transport service ad</td>\n",
       "    </tr>\n",
       "  </tbody>\n",
       "</table>\n",
       "</div>"
      ],
      "text/plain": [
       "            id                                              title  \\\n",
       "0  v81vT7EID3Q                                        Nangrow HMO   \n",
       "1  rSickeJuceE   nouvelle technologie #Renault #ETech #fullhybrid   \n",
       "2  DwNatxJHBGo  දන්ත සංවේදීතාවය නොසලකා හරින්න එපා කල්ගතවෙද්දි ...   \n",
       "3  cJR25ndPunQ                                Ditt viktigaste val   \n",
       "4  iviCwMZYxZE                       Fyll på ditt SL-kort i appen   \n",
       "\n",
       "                                         description  \\\n",
       "0                                        Nangrow HMO   \n",
       "1  découvrez en juin la nouvelle technologie #Ren...   \n",
       "2  දන්ත සංවේදීතාවය නොසලකා හරින්න එපා කල්ගතවෙද්දි ...   \n",
       "3                                                NaN   \n",
       "4  Använder du ett SL-kort när du reser? Ladda på...   \n",
       "\n",
       "                  channelId   channelTitle  \\\n",
       "0  UCX0Sis-gI_OY-Ogz221GGoQ     GrowiingUp   \n",
       "1  UCKqGfcDbnIDPWTxZ-k-dg3g  Renault Maroc   \n",
       "2  UCH3D6zUxAhanFrpVRgzfXuQ   Sensodyne LK   \n",
       "3  UC4Ky1pwsI1BVMh7Dk5Vwe2g            Kry   \n",
       "4  UCT-K0hbX-rWawfv1H7164fA        KanalSL   \n",
       "\n",
       "                                        thumbnail tags categoryId madeForKids  \\\n",
       "0  https://i.ytimg.com/vi/v81vT7EID3Q/default.jpg  NaN         22       FALSE   \n",
       "1  https://i.ytimg.com/vi/rSickeJuceE/default.jpg  NaN          2       FALSE   \n",
       "2  https://i.ytimg.com/vi/DwNatxJHBGo/default.jpg  NaN         22       FALSE   \n",
       "3  https://i.ytimg.com/vi/cJR25ndPunQ/default.jpg  NaN         28       FALSE   \n",
       "4  https://i.ytimg.com/vi/iviCwMZYxZE/default.jpg  NaN         19       FALSE   \n",
       "\n",
       "  duration duration seconds     Primary Tag        Secondary Tag Coder Rating  \\\n",
       "0     PT5S                5  child directed     Cooking and Food          NaN   \n",
       "1     PT6S                6      irrelevant     Autos & Vehicles          NaN   \n",
       "2     PT6S                6      irrelevant   Health and Fitness          NaN   \n",
       "3     PT6S                6      irrelevant  Health and Wellness          NaN   \n",
       "4     PT6S                6      irrelevant   Travel & Adventure          NaN   \n",
       "\n",
       "                     Coder Description  \n",
       "0  ad for a child's dietary supplement  \n",
       "1                           ad for car  \n",
       "2     ad for a toothpaste by sensodyne  \n",
       "3                   health care centre  \n",
       "4                 transport service ad  "
      ]
     },
     "execution_count": 75,
     "metadata": {},
     "output_type": "execute_result"
    }
   ],
   "source": [
    "ad_details_df.head()"
   ]
  },
  {
   "cell_type": "code",
   "execution_count": 76,
   "id": "02f46543",
   "metadata": {},
   "outputs": [],
   "source": [
    "train_df = pd.read_csv('train_video_ids.csv')\n",
    "train_ids = train_df['Video id'].to_list()"
   ]
  },
  {
   "cell_type": "code",
   "execution_count": 77,
   "id": "45944ea6",
   "metadata": {},
   "outputs": [
    {
     "data": {
      "text/plain": [
       "150"
      ]
     },
     "execution_count": 77,
     "metadata": {},
     "output_type": "execute_result"
    }
   ],
   "source": [
    "len(train_ids)"
   ]
  },
  {
   "cell_type": "code",
   "execution_count": 78,
   "id": "d476e67e",
   "metadata": {},
   "outputs": [
    {
     "data": {
      "text/plain": [
       "Counter({'test': 2370, 'train': 150})"
      ]
     },
     "execution_count": 78,
     "metadata": {},
     "output_type": "execute_result"
    }
   ],
   "source": [
    "video_ids = ad_details_df['id'].to_list()\n",
    "video_type = []\n",
    "\n",
    "for v in video_ids:\n",
    "    if v in train_ids:\n",
    "        video_type.append('train')\n",
    "    else:\n",
    "        video_type.append('test')\n",
    "\n",
    "Counter(video_type)       "
   ]
  },
  {
   "cell_type": "code",
   "execution_count": 79,
   "id": "4233353f",
   "metadata": {},
   "outputs": [],
   "source": [
    "ad_details_df['Type'] = video_type"
   ]
  },
  {
   "cell_type": "code",
   "execution_count": 80,
   "id": "cd4692a3",
   "metadata": {},
   "outputs": [],
   "source": [
    "for name,df in all_dfs.items():\n",
    "    \n",
    "    status = []\n",
    "    \n",
    "    this_df_ids = df['Video Id'].to_list()\n",
    "    \n",
    "    for v in video_ids:\n",
    "        if v in this_df_ids:\n",
    "            status.append(\"done\")\n",
    "        else:\n",
    "            status.append(\"not done\")\n",
    "    \n",
    "    ad_details_df[name] = status \n",
    "    \n",
    "        \n",
    "    "
   ]
  },
  {
   "cell_type": "code",
   "execution_count": 81,
   "id": "567769b5",
   "metadata": {},
   "outputs": [
    {
     "name": "stdout",
     "output_type": "stream",
     "text": [
      "zeroshot\n",
      "done        2434\n",
      "not done      86\n",
      "Name: zeroshot, dtype: int64\n",
      "\n",
      "\n",
      "dynamic fewshot\n",
      "done        2299\n",
      "not done     221\n",
      "Name: dynamic fewshot, dtype: int64\n",
      "\n",
      "\n",
      "davsp gemini\n",
      "done        2405\n",
      "not done     115\n",
      "Name: davsp gemini, dtype: int64\n",
      "\n",
      "\n",
      "davsp gpt\n",
      "done        2407\n",
      "not done     113\n",
      "Name: davsp gpt, dtype: int64\n",
      "\n",
      "\n",
      "davsp claude\n",
      "done        2406\n",
      "not done     114\n",
      "Name: davsp claude, dtype: int64\n",
      "\n",
      "\n"
     ]
    }
   ],
   "source": [
    "for name in all_dfs.keys():\n",
    "    print(name)\n",
    "    print(ad_details_df[name].value_counts())\n",
    "    print(\"\\n\")"
   ]
  },
  {
   "cell_type": "code",
   "execution_count": 82,
   "id": "08ef9d02",
   "metadata": {},
   "outputs": [
    {
     "name": "stdout",
     "output_type": "stream",
     "text": [
      "zeroshot\n",
      "done        2284\n",
      "not done      86\n",
      "Name: zeroshot, dtype: int64\n",
      "\n",
      "\n",
      "dynamic fewshot\n",
      "done        2299\n",
      "not done      71\n",
      "Name: dynamic fewshot, dtype: int64\n",
      "\n",
      "\n",
      "davsp gemini\n",
      "done        2260\n",
      "not done     110\n",
      "Name: davsp gemini, dtype: int64\n",
      "\n",
      "\n",
      "davsp gpt\n",
      "done        2259\n",
      "not done     111\n",
      "Name: davsp gpt, dtype: int64\n",
      "\n",
      "\n",
      "davsp claude\n",
      "done        2257\n",
      "not done     113\n",
      "Name: davsp claude, dtype: int64\n",
      "\n",
      "\n"
     ]
    }
   ],
   "source": [
    "test_df = ad_details_df[ad_details_df['Type']==\"test\"]\n",
    "\n",
    "for name in all_dfs.keys():\n",
    "    \n",
    "    print(name)\n",
    "    \n",
    "    print(test_df[name].value_counts())\n",
    "    \n",
    "    print(\"\\n\")"
   ]
  },
  {
   "cell_type": "code",
   "execution_count": 83,
   "id": "2eec629e",
   "metadata": {},
   "outputs": [],
   "source": [
    "# ad_details_df.to_csv('ad_task_video_status.csv')"
   ]
  },
  {
   "cell_type": "code",
   "execution_count": 84,
   "id": "871557a7",
   "metadata": {},
   "outputs": [],
   "source": [
    "\n",
    "# path = '/Users/nida/Documents/GitHub/youtube-kids-ads-25/ad classification/base experiments/'\n",
    "# df1 = pd.read_csv(path + 'dynamicFewShotWithHaleemaPromptAnd2AppAnd2InappExamples-21Jan.csv')\n",
    "# df2 = pd.read_csv(path+ 'pipeline1_base_dynamicFewShotWithHaleemaPromptAnd2AppAnd2InappExamplesMerged.csv')\n",
    "# merged_dataframe = pd.concat([df1,df2], ignore_index=True)\n",
    "# merged_dataframe"
   ]
  },
  {
   "cell_type": "code",
   "execution_count": 85,
   "id": "089e0d23",
   "metadata": {},
   "outputs": [],
   "source": [
    "# merged_dataframe.to_csv(path + 'pipeline1_base_dynamicFewShotWithHaleemaPromptAnd2AppAnd2InappExamplesMerged_2299.csv')"
   ]
  },
  {
   "cell_type": "code",
   "execution_count": null,
   "id": "46595754",
   "metadata": {},
   "outputs": [],
   "source": []
  }
 ],
 "metadata": {
  "kernelspec": {
   "display_name": "Python 3 (ipykernel)",
   "language": "python",
   "name": "python3"
  },
  "language_info": {
   "codemirror_mode": {
    "name": "ipython",
    "version": 3
   },
   "file_extension": ".py",
   "mimetype": "text/x-python",
   "name": "python",
   "nbconvert_exporter": "python",
   "pygments_lexer": "ipython3",
   "version": "3.10.0"
  }
 },
 "nbformat": 4,
 "nbformat_minor": 5
}
