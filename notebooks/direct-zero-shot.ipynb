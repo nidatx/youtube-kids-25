{
 "cells": [
  {
   "cell_type": "markdown",
   "id": "fa21d4e3",
   "metadata": {
    "id": "exmY-abTefFW",
    "papermill": {
     "duration": 0.005425,
     "end_time": "2024-12-19T22:14:04.675239",
     "exception": false,
     "start_time": "2024-12-19T22:14:04.669814",
     "status": "completed"
    },
    "tags": []
   },
   "source": [
    "# Imports"
   ]
  },
  {
   "cell_type": "code",
   "execution_count": 1,
   "id": "8c6e060d",
   "metadata": {
    "execution": {
     "iopub.execute_input": "2024-12-19T22:14:04.685904Z",
     "iopub.status.busy": "2024-12-19T22:14:04.685491Z",
     "iopub.status.idle": "2024-12-19T22:14:11.939285Z",
     "shell.execute_reply": "2024-12-19T22:14:11.938006Z"
    },
    "papermill": {
     "duration": 7.261769,
     "end_time": "2024-12-19T22:14:11.941602",
     "exception": false,
     "start_time": "2024-12-19T22:14:04.679833",
     "status": "completed"
    },
    "tags": []
   },
   "outputs": [],
   "source": [
    "import os\n",
    "\n",
    "import time\n",
    "import torch\n",
    "import random\n",
    "\n",
    "import warnings\n",
    "import numpy as np\n",
    "import pandas as pd\n",
    "from PIL import Image\n",
    "from glob import glob\n",
    "\n",
    "from json import loads, dumps\n",
    "\n",
    "import seaborn as sns \n",
    "\n",
    "import typing_extensions as typing\n",
    "from google.generativeai.types import HarmCategory, HarmBlockThreshold\n",
    "\n",
    "from collections import Counter\n",
    "\n",
    "import matplotlib.pyplot as plt\n",
    "import seaborn as sns\n",
    "from sklearn.metrics import confusion_matrix,classification_report \n"
   ]
  },
  {
   "cell_type": "markdown",
   "id": "f50d3f0e",
   "metadata": {
    "papermill": {
     "duration": 0.004466,
     "end_time": "2024-12-19T22:14:11.951495",
     "exception": false,
     "start_time": "2024-12-19T22:14:11.947029",
     "status": "completed"
    },
    "tags": []
   },
   "source": [
    "# Data Loading"
   ]
  },
  {
   "cell_type": "code",
   "execution_count": 2,
   "id": "bad883a9",
   "metadata": {
    "execution": {
     "iopub.execute_input": "2024-12-19T22:14:11.963673Z",
     "iopub.status.busy": "2024-12-19T22:14:11.962533Z",
     "iopub.status.idle": "2024-12-19T22:14:12.019325Z",
     "shell.execute_reply": "2024-12-19T22:14:12.018296Z"
    },
    "papermill": {
     "duration": 0.065904,
     "end_time": "2024-12-19T22:14:12.021757",
     "exception": false,
     "start_time": "2024-12-19T22:14:11.955853",
     "status": "completed"
    },
    "tags": []
   },
   "outputs": [
    {
     "data": {
      "text/html": [
       "<div>\n",
       "<style scoped>\n",
       "    .dataframe tbody tr th:only-of-type {\n",
       "        vertical-align: middle;\n",
       "    }\n",
       "\n",
       "    .dataframe tbody tr th {\n",
       "        vertical-align: top;\n",
       "    }\n",
       "\n",
       "    .dataframe thead th {\n",
       "        text-align: right;\n",
       "    }\n",
       "</style>\n",
       "<table border=\"1\" class=\"dataframe\">\n",
       "  <thead>\n",
       "    <tr style=\"text-align: right;\">\n",
       "      <th></th>\n",
       "      <th>Video link</th>\n",
       "      <th>Primary Tag</th>\n",
       "      <th>Secondary Tag</th>\n",
       "      <th>Rating</th>\n",
       "      <th>Description</th>\n",
       "      <th>Available?</th>\n",
       "    </tr>\n",
       "  </thead>\n",
       "  <tbody>\n",
       "    <tr>\n",
       "      <th>0</th>\n",
       "      <td>Wma_iVqKRWw</td>\n",
       "      <td>inappropriate</td>\n",
       "      <td>Scariness</td>\n",
       "      <td>Mild</td>\n",
       "      <td>lyric video, fire, forest burning, explosion</td>\n",
       "      <td>Yes</td>\n",
       "    </tr>\n",
       "    <tr>\n",
       "      <th>1</th>\n",
       "      <td>1dtzSRlfBDk</td>\n",
       "      <td>child directed</td>\n",
       "      <td>Educational Content</td>\n",
       "      <td>NaN</td>\n",
       "      <td>ad about a Math and logic based visual game.  ...</td>\n",
       "      <td>Yes</td>\n",
       "    </tr>\n",
       "    <tr>\n",
       "      <th>2</th>\n",
       "      <td>5KRcG9gVhio</td>\n",
       "      <td>inappropriate</td>\n",
       "      <td>Offensive language</td>\n",
       "      <td>Extreme</td>\n",
       "      <td>spanish mv; lyrics inappropriate</td>\n",
       "      <td>Yes</td>\n",
       "    </tr>\n",
       "    <tr>\n",
       "      <th>3</th>\n",
       "      <td>1EYvCnQj1uQ</td>\n",
       "      <td>inappropriate</td>\n",
       "      <td>Offensive language</td>\n",
       "      <td>Extreme</td>\n",
       "      <td>spanish mv; inapp lyrics</td>\n",
       "      <td>Yes</td>\n",
       "    </tr>\n",
       "    <tr>\n",
       "      <th>4</th>\n",
       "      <td>hkworAjntAI</td>\n",
       "      <td>inappropriate</td>\n",
       "      <td>Scariness</td>\n",
       "      <td>Moderate</td>\n",
       "      <td>song about stopping domestic abuse, yelling, b...</td>\n",
       "      <td>Yes</td>\n",
       "    </tr>\n",
       "    <tr>\n",
       "      <th>...</th>\n",
       "      <td>...</td>\n",
       "      <td>...</td>\n",
       "      <td>...</td>\n",
       "      <td>...</td>\n",
       "      <td>...</td>\n",
       "      <td>...</td>\n",
       "    </tr>\n",
       "    <tr>\n",
       "      <th>2639</th>\n",
       "      <td>eRaJzy7dtTk</td>\n",
       "      <td>child directed</td>\n",
       "      <td>Cartoons</td>\n",
       "      <td>NaN</td>\n",
       "      <td>ad for a compilation of the cartoon baby alive</td>\n",
       "      <td>Yes</td>\n",
       "    </tr>\n",
       "    <tr>\n",
       "      <th>2640</th>\n",
       "      <td>BqHBzimyRbM</td>\n",
       "      <td>irrelevant</td>\n",
       "      <td>Home and Lifestyle</td>\n",
       "      <td>NaN</td>\n",
       "      <td>Ad for a company that has deals on furnishing</td>\n",
       "      <td>Yes</td>\n",
       "    </tr>\n",
       "    <tr>\n",
       "      <th>2641</th>\n",
       "      <td>rYSTqeFRLo8</td>\n",
       "      <td>irrelevant</td>\n",
       "      <td>Gaming &amp; Entertainment</td>\n",
       "      <td>NaN</td>\n",
       "      <td>Ad for a game to build settlements</td>\n",
       "      <td>Yes</td>\n",
       "    </tr>\n",
       "    <tr>\n",
       "      <th>2642</th>\n",
       "      <td>CllAJ6PkRIA</td>\n",
       "      <td>irrelevant</td>\n",
       "      <td>Health and Wellness</td>\n",
       "      <td>NaN</td>\n",
       "      <td>Ad for a medicinal supplement</td>\n",
       "      <td>Yes</td>\n",
       "    </tr>\n",
       "    <tr>\n",
       "      <th>2643</th>\n",
       "      <td>TZ6ryPWaI9A</td>\n",
       "      <td>child directed</td>\n",
       "      <td>Cooking and Food</td>\n",
       "      <td>NaN</td>\n",
       "      <td>Ad for a milk aimed for kids</td>\n",
       "      <td>Yes</td>\n",
       "    </tr>\n",
       "  </tbody>\n",
       "</table>\n",
       "<p>2644 rows × 6 columns</p>\n",
       "</div>"
      ],
      "text/plain": [
       "       Video link     Primary Tag           Secondary Tag    Rating  \\\n",
       "0     Wma_iVqKRWw   inappropriate               Scariness      Mild   \n",
       "1     1dtzSRlfBDk  child directed     Educational Content       NaN   \n",
       "2     5KRcG9gVhio   inappropriate      Offensive language   Extreme   \n",
       "3     1EYvCnQj1uQ   inappropriate      Offensive language   Extreme   \n",
       "4     hkworAjntAI   inappropriate               Scariness  Moderate   \n",
       "...           ...             ...                     ...       ...   \n",
       "2639  eRaJzy7dtTk  child directed                Cartoons       NaN   \n",
       "2640  BqHBzimyRbM      irrelevant      Home and Lifestyle       NaN   \n",
       "2641  rYSTqeFRLo8      irrelevant  Gaming & Entertainment       NaN   \n",
       "2642  CllAJ6PkRIA      irrelevant     Health and Wellness       NaN   \n",
       "2643  TZ6ryPWaI9A  child directed        Cooking and Food       NaN   \n",
       "\n",
       "                                            Description Available?  \n",
       "0          lyric video, fire, forest burning, explosion        Yes  \n",
       "1     ad about a Math and logic based visual game.  ...        Yes  \n",
       "2                      spanish mv; lyrics inappropriate        Yes  \n",
       "3                              spanish mv; inapp lyrics        Yes  \n",
       "4     song about stopping domestic abuse, yelling, b...        Yes  \n",
       "...                                                 ...        ...  \n",
       "2639     ad for a compilation of the cartoon baby alive        Yes  \n",
       "2640      Ad for a company that has deals on furnishing        Yes  \n",
       "2641                 Ad for a game to build settlements        Yes  \n",
       "2642                      Ad for a medicinal supplement        Yes  \n",
       "2643                       Ad for a milk aimed for kids        Yes  \n",
       "\n",
       "[2644 rows x 6 columns]"
      ]
     },
     "execution_count": 2,
     "metadata": {},
     "output_type": "execute_result"
    }
   ],
   "source": [
    "df = pd.read_csv('/kaggle/input/youtube-data/all_unique_codes3.csv')\n",
    "df"
   ]
  },
  {
   "cell_type": "code",
   "execution_count": 3,
   "id": "3231bfd2",
   "metadata": {
    "execution": {
     "iopub.execute_input": "2024-12-19T22:14:12.033265Z",
     "iopub.status.busy": "2024-12-19T22:14:12.032906Z",
     "iopub.status.idle": "2024-12-19T22:14:12.063853Z",
     "shell.execute_reply": "2024-12-19T22:14:12.062464Z"
    },
    "papermill": {
     "duration": 0.03915,
     "end_time": "2024-12-19T22:14:12.065971",
     "exception": false,
     "start_time": "2024-12-19T22:14:12.026821",
     "status": "completed"
    },
    "tags": []
   },
   "outputs": [
    {
     "data": {
      "text/plain": [
       "2520"
      ]
     },
     "execution_count": 3,
     "metadata": {},
     "output_type": "execute_result"
    }
   ],
   "source": [
    "available_ad_ids = os.listdir('/kaggle/input/youtube-data/Ads/Ads') \n",
    "len(available_ad_ids)"
   ]
  },
  {
   "cell_type": "code",
   "execution_count": 4,
   "id": "ca797755",
   "metadata": {
    "execution": {
     "iopub.execute_input": "2024-12-19T22:14:12.077841Z",
     "iopub.status.busy": "2024-12-19T22:14:12.077425Z",
     "iopub.status.idle": "2024-12-19T22:14:12.084173Z",
     "shell.execute_reply": "2024-12-19T22:14:12.083086Z"
    },
    "papermill": {
     "duration": 0.014959,
     "end_time": "2024-12-19T22:14:12.086136",
     "exception": false,
     "start_time": "2024-12-19T22:14:12.071177",
     "status": "completed"
    },
    "tags": []
   },
   "outputs": [],
   "source": [
    "all_ids = [] #list of video ids"
   ]
  },
  {
   "cell_type": "code",
   "execution_count": null,
   "id": "56989f43",
   "metadata": {
    "execution": {
     "iopub.execute_input": "2024-12-19T22:14:12.098067Z",
     "iopub.status.busy": "2024-12-19T22:14:12.097336Z",
     "iopub.status.idle": "2024-12-19T22:14:12.156025Z",
     "shell.execute_reply": "2024-12-19T22:14:12.154949Z"
    },
    "papermill": {
     "duration": 0.067021,
     "end_time": "2024-12-19T22:14:12.158316",
     "exception": false,
     "start_time": "2024-12-19T22:14:12.091295",
     "status": "completed"
    },
    "tags": []
   },
   "outputs": [],
   "source": [
    "primary_labels = []\n",
    "video_ids = []\n",
    "\n",
    "for v in all_ids:\n",
    "    try:\n",
    "                    \n",
    "        primary_tag = df.loc[df['Video link']==v,'Primary Tag'].values[0]\n",
    "        \n",
    "        if (primary_tag!=\"inaudible\" or primary_tag!=\"excluded\"):\n",
    "            video_ids.append(v)\n",
    "            primary_labels.append(primary_tag)\n",
    "   \n",
    "    except:\n",
    "        pass\n",
    "\n",
    "print(\"Reasonable video ids:\",len(video_ids))\n",
    "\n"
   ]
  },
  {
   "cell_type": "markdown",
   "id": "e704a6e8",
   "metadata": {
    "papermill": {
     "duration": 0.004764,
     "end_time": "2024-12-19T22:14:12.168208",
     "exception": false,
     "start_time": "2024-12-19T22:14:12.163444",
     "status": "completed"
    },
    "tags": []
   },
   "source": [
    "**Defining Model** "
   ]
  },
  {
   "cell_type": "code",
   "execution_count": 6,
   "id": "efb8dbde",
   "metadata": {
    "execution": {
     "iopub.execute_input": "2024-12-19T22:14:12.180112Z",
     "iopub.status.busy": "2024-12-19T22:14:12.179313Z",
     "iopub.status.idle": "2024-12-19T22:14:12.183663Z",
     "shell.execute_reply": "2024-12-19T22:14:12.182710Z"
    },
    "papermill": {
     "duration": 0.012508,
     "end_time": "2024-12-19T22:14:12.185703",
     "exception": false,
     "start_time": "2024-12-19T22:14:12.173195",
     "status": "completed"
    },
    "tags": []
   },
   "outputs": [],
   "source": [
    "api_key = \"\" "
   ]
  },
  {
   "cell_type": "code",
   "execution_count": 7,
   "id": "d52a23b1",
   "metadata": {
    "execution": {
     "iopub.execute_input": "2024-12-19T22:14:12.197483Z",
     "iopub.status.busy": "2024-12-19T22:14:12.197154Z",
     "iopub.status.idle": "2024-12-19T22:14:12.202165Z",
     "shell.execute_reply": "2024-12-19T22:14:12.201043Z"
    },
    "papermill": {
     "duration": 0.013151,
     "end_time": "2024-12-19T22:14:12.204117",
     "exception": false,
     "start_time": "2024-12-19T22:14:12.190966",
     "status": "completed"
    },
    "tags": []
   },
   "outputs": [],
   "source": [
    "import google.generativeai as genai \n",
    "os.environ[\"API_KEY\"] = api_key \n",
    "genai.configure(api_key=os.environ[\"API_KEY\"]) "
   ]
  },
  {
   "cell_type": "code",
   "execution_count": 8,
   "id": "1612bf40",
   "metadata": {
    "execution": {
     "iopub.execute_input": "2024-12-19T22:14:12.216225Z",
     "iopub.status.busy": "2024-12-19T22:14:12.215840Z",
     "iopub.status.idle": "2024-12-19T22:14:12.220768Z",
     "shell.execute_reply": "2024-12-19T22:14:12.219766Z"
    },
    "papermill": {
     "duration": 0.013229,
     "end_time": "2024-12-19T22:14:12.222874",
     "exception": false,
     "start_time": "2024-12-19T22:14:12.209645",
     "status": "completed"
    },
    "tags": []
   },
   "outputs": [],
   "source": [
    "model = genai.GenerativeModel(\"gemini-1.5-flash\", system_instruction=\"You are an expert content moderator.\") "
   ]
  },
  {
   "cell_type": "code",
   "execution_count": 9,
   "id": "54fd2ab6",
   "metadata": {
    "execution": {
     "iopub.execute_input": "2024-12-19T22:14:12.234441Z",
     "iopub.status.busy": "2024-12-19T22:14:12.234104Z",
     "iopub.status.idle": "2024-12-19T22:14:12.238945Z",
     "shell.execute_reply": "2024-12-19T22:14:12.237762Z"
    },
    "papermill": {
     "duration": 0.012933,
     "end_time": "2024-12-19T22:14:12.240890",
     "exception": false,
     "start_time": "2024-12-19T22:14:12.227957",
     "status": "completed"
    },
    "tags": []
   },
   "outputs": [],
   "source": [
    "class LLM_Output(typing.TypedDict):\n",
    "    label: str\n",
    "    language: list[str]\n",
    "    response: str"
   ]
  },
  {
   "cell_type": "code",
   "execution_count": 10,
   "id": "a4844407",
   "metadata": {
    "execution": {
     "iopub.execute_input": "2024-12-19T22:14:12.252817Z",
     "iopub.status.busy": "2024-12-19T22:14:12.252102Z",
     "iopub.status.idle": "2024-12-19T22:14:12.258108Z",
     "shell.execute_reply": "2024-12-19T22:14:12.257091Z"
    },
    "papermill": {
     "duration": 0.014209,
     "end_time": "2024-12-19T22:14:12.260286",
     "exception": false,
     "start_time": "2024-12-19T22:14:12.246077",
     "status": "completed"
    },
    "tags": []
   },
   "outputs": [],
   "source": [
    "prompt = \"\"\"A video can be considered inappropriate for children if it contains violent or graphic content (cartoonish, realistic, inclusion of gore and blood),\n",
    "  self-harm or suicide,\n",
    "  elements of horror or creepy themes,\n",
    "  loud and violent sounds,\n",
    "  zombies, skeletons, scary masks, scary clowns, fire in dangerous settings,\n",
    "  extremely distressing scenes (such as car crashes),\n",
    "  extreme stunts (depictions of life endangering or high-risk physical activities),\n",
    "  fight sports (such as boxing, wrestling, martial arts),\n",
    "  first-person shooter and battle games (games intended for children over 13 should be considered inapproprite),\n",
    "  weapons (such as firearms, explosives, swords, axes etc.),\n",
    "  sexual content (innuendos, overt sexual behavior, nudity, sexual themes, sexual suggestiveness etc.),\n",
    "  vulgar dancing (such as twerking etc.),\n",
    "  discrimination (based on race/ethnicity/gender/ability),\n",
    "  profane or explicit language (from mild words such as \"idiot\" and \"stupid\" to severe swearing, hate speech or signs),\n",
    "  drinking, drugs, smoking, gambling, crude humour,\n",
    "  inappropriate clothing (with significant skin exposure),\n",
    "  significant romantic intimacy.\n",
    "\n",
    "  Remember that this criteria is not exhasutive.\n",
    "\n",
    "  You have been given a video and it's audio.\n",
    "  Based on both the visual content and audio, is the video and provided audio inappropriate?\n",
    "\n",
    "  If it is, label it as \"inappropriate\".\n",
    "  If it is not, label it as \"appropriate\".\n",
    "\n",
    "  Justify your conclusion.\n",
    "\n",
    "  Also, mention what language is being spoken if there is any.\n",
    "\n",
    "  Make the outputs in JSON format.\n",
    "\n",
    "  \"\"\""
   ]
  },
  {
   "cell_type": "markdown",
   "id": "586bd433",
   "metadata": {
    "id": "w8esg7q8hSTW",
    "papermill": {
     "duration": 0.00503,
     "end_time": "2024-12-19T22:14:12.270729",
     "exception": false,
     "start_time": "2024-12-19T22:14:12.265699",
     "status": "completed"
    },
    "tags": []
   },
   "source": [
    "**Running Model on Dataset** "
   ]
  },
  {
   "cell_type": "code",
   "execution_count": null,
   "id": "a4dd8f3d",
   "metadata": {
    "execution": {
     "iopub.execute_input": "2024-12-19T22:14:12.282704Z",
     "iopub.status.busy": "2024-12-19T22:14:12.282304Z",
     "iopub.status.idle": "2024-12-19T23:52:53.487641Z",
     "shell.execute_reply": "2024-12-19T23:52:53.486503Z"
    },
    "id": "cSoT7-9DDknR",
    "papermill": {
     "duration": 5921.214214,
     "end_time": "2024-12-19T23:52:53.490073",
     "exception": false,
     "start_time": "2024-12-19T22:14:12.275859",
     "status": "completed"
    },
    "tags": []
   },
   "outputs": [],
   "source": [
    "ids = []\n",
    "predicted_labels = []\n",
    "languages = []\n",
    "responses = []\n",
    "ground_truths = []\n",
    "remaining = []\n",
    "\n",
    "for i in range(0, len(video_ids)): \n",
    "\n",
    "        \n",
    "    \n",
    "    if (video_ids[i] in available_ad_ids):\n",
    "\n",
    "        try:\n",
    "            contents_of_ad = os.listdir('/kaggle/input/youtube-data/Ads/Ads/' + video_ids[i]) \n",
    "            contents_of_ad.remove('audio.mp3') \n",
    "            path_to_video = '/kaggle/input/youtube-data/Ads/Ads/' + video_ids[i] + '/' + contents_of_ad[0] \n",
    "            path_to_audio = '/kaggle/input/youtube-data/Ads/Ads/' + video_ids[i] + '/audio.mp3' \n",
    "\n",
    "            ## upload video \n",
    "            video_file = genai.upload_file(path=path_to_video) \n",
    "    \n",
    "            ## upload audio \n",
    "            audio_file = genai.upload_file(path=path_to_audio) \n",
    "    \n",
    "            ## check if video has uploaded - wait for it to upload\n",
    "            while video_file.state.name == \"PROCESSING\":\n",
    "              print('.', end='')\n",
    "              time.sleep(10)\n",
    "              video_file = genai.get_file(video_file.name)\n",
    "    \n",
    "            if video_file.state.name == \"FAILED\":\n",
    "              raise ValueError(video_file.state.name)\n",
    "\n",
    "            try: \n",
    "                response = model.generate_content([audio_file,video_file, prompt],\n",
    "                                    generation_config=genai.GenerationConfig(\n",
    "                                        response_mime_type=\"application/json\", response_schema=LLM_Output,temperature=0.0),\n",
    "\n",
    "                                    safety_settings={\n",
    "                                      HarmCategory.HARM_CATEGORY_HATE_SPEECH: HarmBlockThreshold.BLOCK_NONE,\n",
    "                                      HarmCategory.HARM_CATEGORY_HARASSMENT: HarmBlockThreshold.BLOCK_NONE,\n",
    "                                      HarmCategory.HARM_CATEGORY_SEXUALLY_EXPLICIT: HarmBlockThreshold.BLOCK_NONE,\n",
    "                                      HarmCategory.HARM_CATEGORY_DANGEROUS_CONTENT: HarmBlockThreshold.BLOCK_NONE\n",
    "                                  })\n",
    "            except Exception as e:\n",
    "                print(f\"Error making inference: {e}\")\n",
    "                remaining.append(video_ids[i])\n",
    "                continue \n",
    "\n",
    "            # Wrap response.text access in try-except\n",
    "            try:\n",
    "                print(\"Completed for video number:\", i, ' ', video_ids[i])\n",
    "\n",
    "                dictionary = loads(response.text)\n",
    "                print('True Label:', primary_labels[i], 'Response:', dictionary)\n",
    "\n",
    "                ids.append(video_ids[i])\n",
    "                predicted_labels.append(dictionary['label'])\n",
    "                languages.append(dictionary['language'])\n",
    "                responses.append(dictionary['response'])\n",
    "                ground_truths.append(primary_labels[i]) \n",
    "                \n",
    "            except Exception as e:\n",
    "                print(f\"Error processing response.text: {e}\")\n",
    "                remaining.append(video_ids[i])\n",
    "                continue\n",
    "\n",
    "        except Exception as e:\n",
    "            print(f\"Unexpected error: {e}\")\n",
    "            remaining.append(video_ids[i])\n",
    "            continue\n",
    "        \n",
    "        time.sleep(15)\n",
    "\n",
    "        \n",
    "\n",
    "        "
   ]
  },
  {
   "cell_type": "code",
   "execution_count": null,
   "id": "98927f86",
   "metadata": {
    "execution": {
     "iopub.execute_input": "2024-12-19T23:52:53.522313Z",
     "iopub.status.busy": "2024-12-19T23:52:53.521338Z",
     "iopub.status.idle": "2024-12-19T23:52:53.526938Z",
     "shell.execute_reply": "2024-12-19T23:52:53.525867Z"
    },
    "papermill": {
     "duration": 0.023731,
     "end_time": "2024-12-19T23:52:53.528860",
     "exception": false,
     "start_time": "2024-12-19T23:52:53.505129",
     "status": "completed"
    },
    "tags": []
   },
   "outputs": [],
   "source": [
    "# At the end, print remaining videos \n",
    "\n",
    "print(\"Remaining videos with errors:\", remaining) "
   ]
  },
  {
   "cell_type": "code",
   "execution_count": null,
   "id": "a8169e02",
   "metadata": {
    "execution": {
     "iopub.execute_input": "2024-12-19T23:52:53.560541Z",
     "iopub.status.busy": "2024-12-19T23:52:53.560186Z",
     "iopub.status.idle": "2024-12-19T23:52:53.567340Z",
     "shell.execute_reply": "2024-12-19T23:52:53.566272Z"
    },
    "id": "aqDlWLZcZJHL",
    "papermill": {
     "duration": 0.02564,
     "end_time": "2024-12-19T23:52:53.569627",
     "exception": false,
     "start_time": "2024-12-19T23:52:53.543987",
     "status": "completed"
    },
    "tags": []
   },
   "outputs": [],
   "source": [
    "for i in range(len(responses)): \n",
    "    print('True Label: ', ground_truths[i], '\\tPrediction: ', predicted_labels[i]) "
   ]
  },
  {
   "cell_type": "code",
   "execution_count": 14,
   "id": "da7ab4a4",
   "metadata": {
    "execution": {
     "iopub.execute_input": "2024-12-19T23:52:53.601525Z",
     "iopub.status.busy": "2024-12-19T23:52:53.600662Z",
     "iopub.status.idle": "2024-12-19T23:52:53.614264Z",
     "shell.execute_reply": "2024-12-19T23:52:53.613287Z"
    },
    "id": "6JsiW7gbvxRA",
    "papermill": {
     "duration": 0.031665,
     "end_time": "2024-12-19T23:52:53.616239",
     "exception": false,
     "start_time": "2024-12-19T23:52:53.584574",
     "status": "completed"
    },
    "tags": []
   },
   "outputs": [
    {
     "data": {
      "text/html": [
       "<div>\n",
       "<style scoped>\n",
       "    .dataframe tbody tr th:only-of-type {\n",
       "        vertical-align: middle;\n",
       "    }\n",
       "\n",
       "    .dataframe tbody tr th {\n",
       "        vertical-align: top;\n",
       "    }\n",
       "\n",
       "    .dataframe thead th {\n",
       "        text-align: right;\n",
       "    }\n",
       "</style>\n",
       "<table border=\"1\" class=\"dataframe\">\n",
       "  <thead>\n",
       "    <tr style=\"text-align: right;\">\n",
       "      <th></th>\n",
       "      <th>Video Id</th>\n",
       "      <th>Primary Label</th>\n",
       "      <th>Predicted Label</th>\n",
       "      <th>Response</th>\n",
       "      <th>Languages</th>\n",
       "    </tr>\n",
       "  </thead>\n",
       "  <tbody>\n",
       "    <tr>\n",
       "      <th>0</th>\n",
       "      <td>B1z2h_tZZq0</td>\n",
       "      <td>inappropriate</td>\n",
       "      <td>inappropriate</td>\n",
       "      <td>The music video contains scenes of a man and a...</td>\n",
       "      <td>[Punjabi]</td>\n",
       "    </tr>\n",
       "    <tr>\n",
       "      <th>1</th>\n",
       "      <td>_axD_oF_PU8</td>\n",
       "      <td>irrelevant</td>\n",
       "      <td>appropriate</td>\n",
       "      <td>The video is an advertisement for Cash Plus. I...</td>\n",
       "      <td>[Arabic]</td>\n",
       "    </tr>\n",
       "    <tr>\n",
       "      <th>2</th>\n",
       "      <td>K77-yXo-0r0</td>\n",
       "      <td>irrelevant</td>\n",
       "      <td>appropriate</td>\n",
       "      <td>The video shows a compilation of beautiful nat...</td>\n",
       "      <td>[]</td>\n",
       "    </tr>\n",
       "    <tr>\n",
       "      <th>3</th>\n",
       "      <td>kHdUFZ16Yt0</td>\n",
       "      <td>irrelevant</td>\n",
       "      <td>appropriate</td>\n",
       "      <td>The video shows a compilation of beautiful nat...</td>\n",
       "      <td>[]</td>\n",
       "    </tr>\n",
       "    <tr>\n",
       "      <th>4</th>\n",
       "      <td>_BsFVKSGxI0</td>\n",
       "      <td>irrelevant</td>\n",
       "      <td>appropriate</td>\n",
       "      <td>The video shows a can of insecticide killing m...</td>\n",
       "      <td>[Bengali]</td>\n",
       "    </tr>\n",
       "  </tbody>\n",
       "</table>\n",
       "</div>"
      ],
      "text/plain": [
       "      Video Id  Primary Label Predicted Label  \\\n",
       "0  B1z2h_tZZq0  inappropriate   inappropriate   \n",
       "1  _axD_oF_PU8     irrelevant     appropriate   \n",
       "2  K77-yXo-0r0     irrelevant     appropriate   \n",
       "3  kHdUFZ16Yt0     irrelevant     appropriate   \n",
       "4  _BsFVKSGxI0     irrelevant     appropriate   \n",
       "\n",
       "                                            Response  Languages  \n",
       "0  The music video contains scenes of a man and a...  [Punjabi]  \n",
       "1  The video is an advertisement for Cash Plus. I...   [Arabic]  \n",
       "2  The video shows a compilation of beautiful nat...         []  \n",
       "3  The video shows a compilation of beautiful nat...         []  \n",
       "4  The video shows a can of insecticide killing m...  [Bengali]  "
      ]
     },
     "execution_count": 14,
     "metadata": {},
     "output_type": "execute_result"
    }
   ],
   "source": [
    "new_df = pd.DataFrame({\n",
    "    'Video Id': ids,\n",
    "    'Primary Label': ground_truths,\n",
    "    'Predicted Label': predicted_labels,\n",
    "    'Response': responses, \n",
    "    'Languages': languages \n",
    "})\n",
    "\n",
    "new_df.head() "
   ]
  },
  {
   "cell_type": "code",
   "execution_count": 15,
   "id": "8802941f",
   "metadata": {
    "execution": {
     "iopub.execute_input": "2024-12-19T23:52:53.648668Z",
     "iopub.status.busy": "2024-12-19T23:52:53.647866Z",
     "iopub.status.idle": "2024-12-19T23:52:53.662844Z",
     "shell.execute_reply": "2024-12-19T23:52:53.662086Z"
    },
    "id": "Tv1_5sfJwRfu",
    "papermill": {
     "duration": 0.033522,
     "end_time": "2024-12-19T23:52:53.665065",
     "exception": false,
     "start_time": "2024-12-19T23:52:53.631543",
     "status": "completed"
    },
    "tags": []
   },
   "outputs": [],
   "source": [
    "path_to_new_csv = \"\"\n",
    "new_df.to_csv(path_to_new_csv, index=False)"
   ]
  },
  {
   "cell_type": "code",
   "execution_count": 16,
   "id": "a8d98cee",
   "metadata": {
    "execution": {
     "iopub.execute_input": "2024-12-19T23:52:53.699205Z",
     "iopub.status.busy": "2024-12-19T23:52:53.698436Z",
     "iopub.status.idle": "2024-12-19T23:52:53.703375Z",
     "shell.execute_reply": "2024-12-19T23:52:53.702390Z"
    },
    "id": "4hsLj8P8Mg-e",
    "papermill": {
     "duration": 0.023244,
     "end_time": "2024-12-19T23:52:53.705275",
     "exception": false,
     "start_time": "2024-12-19T23:52:53.682031",
     "status": "completed"
    },
    "tags": []
   },
   "outputs": [],
   "source": [
    "# Changing to binary lists \n",
    "\n",
    "predictions = [1 if pred == 'inappropriate' else 0 for pred in predicted_labels] \n",
    "ground_truths = [1 if label == 'inappropriate' else 0 for label in ground_truths] "
   ]
  },
  {
   "cell_type": "code",
   "execution_count": null,
   "id": "c420a88f",
   "metadata": {
    "execution": {
     "iopub.execute_input": "2024-12-19T23:52:53.738255Z",
     "iopub.status.busy": "2024-12-19T23:52:53.737403Z",
     "iopub.status.idle": "2024-12-19T23:52:53.755015Z",
     "shell.execute_reply": "2024-12-19T23:52:53.754057Z"
    },
    "papermill": {
     "duration": 0.036167,
     "end_time": "2024-12-19T23:52:53.756958",
     "exception": false,
     "start_time": "2024-12-19T23:52:53.720791",
     "status": "completed"
    },
    "tags": []
   },
   "outputs": [],
   "source": [
    "\n",
    "report = classification_report(ground_truths, predictions) \n",
    "print(report) "
   ]
  },
  {
   "cell_type": "code",
   "execution_count": null,
   "id": "13cfbe0f",
   "metadata": {
    "execution": {
     "iopub.execute_input": "2024-12-19T23:52:53.789638Z",
     "iopub.status.busy": "2024-12-19T23:52:53.789252Z",
     "iopub.status.idle": "2024-12-19T23:52:54.112471Z",
     "shell.execute_reply": "2024-12-19T23:52:54.111452Z"
    },
    "papermill": {
     "duration": 0.342002,
     "end_time": "2024-12-19T23:52:54.114720",
     "exception": false,
     "start_time": "2024-12-19T23:52:53.772718",
     "status": "completed"
    },
    "tags": []
   },
   "outputs": [],
   "source": [
    "\n",
    "cm = confusion_matrix(ground_truths, predictions)\n",
    "\n",
    "plt.figure(figsize=(6,4))\n",
    "sns.heatmap(cm, annot=True, fmt='d', cmap='RdPu', xticklabels=['Appropriate', 'Inapproriate'], yticklabels=['Appropriate', 'Inapproriate'])\n",
    "plt.xlabel('Predicted Labels')\n",
    "plt.ylabel('True Labels')\n",
    "plt.title('Confusion Matrix')\n",
    "plt.show()"
   ]
  }
 ],
 "metadata": {
  "colab": {
   "provenance": []
  },
  "kaggle": {
   "accelerator": "none",
   "dataSources": [
    {
     "datasetId": 5899911,
     "sourceId": 9657654,
     "sourceType": "datasetVersion"
    },
    {
     "datasetId": 5987034,
     "sourceId": 9981805,
     "sourceType": "datasetVersion"
    },
    {
     "datasetId": 6239539,
     "sourceId": 10113339,
     "sourceType": "datasetVersion"
    },
    {
     "datasetId": 6245300,
     "sourceId": 10121256,
     "sourceType": "datasetVersion"
    },
    {
     "datasetId": 6197322,
     "sourceId": 10156855,
     "sourceType": "datasetVersion"
    },
    {
     "datasetId": 5684885,
     "sourceId": 10193267,
     "sourceType": "datasetVersion"
    },
    {
     "datasetId": 6259703,
     "sourceId": 10246951,
     "sourceType": "datasetVersion"
    }
   ],
   "dockerImageVersionId": 30804,
   "isGpuEnabled": false,
   "isInternetEnabled": true,
   "language": "python",
   "sourceType": "notebook"
  },
  "kernelspec": {
   "display_name": "Python 3",
   "language": "python",
   "name": "python3"
  },
  "language_info": {
   "codemirror_mode": {
    "name": "ipython",
    "version": 3
   },
   "file_extension": ".py",
   "mimetype": "text/x-python",
   "name": "python",
   "nbconvert_exporter": "python",
   "pygments_lexer": "ipython3",
   "version": "3.10.14"
  },
  "papermill": {
   "default_parameters": {},
   "duration": 5935.425735,
   "end_time": "2024-12-19T23:52:56.903698",
   "environment_variables": {},
   "exception": null,
   "input_path": "__notebook__.ipynb",
   "output_path": "__notebook__.ipynb",
   "parameters": {},
   "start_time": "2024-12-19T22:14:01.477963",
   "version": "2.6.0"
  }
 },
 "nbformat": 4,
 "nbformat_minor": 5
}
